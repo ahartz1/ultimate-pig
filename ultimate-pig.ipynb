{
 "cells": [
  {
   "cell_type": "markdown",
   "metadata": {},
   "source": [
    "# Ultimate Pig"
   ]
  },
  {
   "cell_type": "code",
   "execution_count": 43,
   "metadata": {
    "collapsed": true
   },
   "outputs": [],
   "source": [
    "import math\n",
    "import random\n",
    "import matplotlib.pyplot as py\n",
    "import statistics as st"
   ]
  },
  {
   "cell_type": "code",
   "execution_count": 44,
   "metadata": {
    "collapsed": true
   },
   "outputs": [],
   "source": [
    "%matplotlib inline"
   ]
  },
  {
   "cell_type": "code",
   "execution_count": 130,
   "metadata": {
    "collapsed": false
   },
   "outputs": [],
   "source": [
    "class PigGame:\n",
    "    \"\"\"\n",
    "    Responsibilities:\n",
    "    - Keep track of who is playing\n",
    "    - Keep track of how many turns have occurred\n",
    "    - End game if turn limit has been exceeded\n",
    "    - Record player score\n",
    "    - Report statistics on game\n",
    "    - Iterate\n",
    "    \n",
    "    Collaborators:\n",
    "    - Player\n",
    "    \"\"\"\n",
    "    \n",
    "    def __init__(self, player):\n",
    "        self.player = player\n",
    "        self.turn_limit = 7\n",
    "        self.reset()\n",
    "        \n",
    "    def reset(self):\n",
    "        self.turns = 0\n",
    "        self.score = 0\n",
    "        self.turn_scores = []\n",
    "        \n",
    "    def iterate(self):\n",
    "        self.turn_scores.append(self.player.get_move())\n",
    "        # .get_move() will need to return the score\n",
    "        self.score += self.turn_scores[-1]\n",
    "        self.turns += 1\n",
    "    \n",
    "    def is_game_over(self):\n",
    "        if self.turns == self.turn_limit:\n",
    "            return True\n",
    "        else:\n",
    "            return False\n",
    "    \n",
    "    def game_stats(self):\n",
    "        return {\n",
    "            'turns': self.turns,\n",
    "            'score': self.score,\n",
    "            'turn_score': self.turn_scores[self.turns - 1]\n",
    "        }\n",
    "    \n",
    "    def run_pig_sim(self):\n",
    "        stats = []\n",
    "        self.reset()\n",
    "        while not self.is_game_over():\n",
    "            self.iterate()\n",
    "            stats.append(self.game_stats())\n",
    "        return stats\n",
    "        \n",
    "        "
   ]
  },
  {
   "cell_type": "code",
   "execution_count": 131,
   "metadata": {
    "collapsed": true
   },
   "outputs": [],
   "source": [
    "class Player:\n",
    "    \"\"\"\n",
    "    Responsibilities:\n",
    "    - Keep track of score during turn\n",
    "    - Roll dice\n",
    "    \"\"\"\n",
    "    def __init__(self):\n",
    "        self.turn_score = []\n",
    "\n",
    "    def roll_dice(self):\n",
    "        '''Returns random dice roll value'''\n",
    "        self.turn_score.append(random.randint(1, 6))\n",
    "            "
   ]
  },
  {
   "cell_type": "code",
   "execution_count": 132,
   "metadata": {
    "collapsed": true
   },
   "outputs": [],
   "source": [
    "class ThreeRoller(Player):\n",
    "    \n",
    "    def __init__(self):\n",
    "        super().__init__()\n",
    "    \n",
    "    def get_move(self):\n",
    "        self.turn_score = []\n",
    "        [self.roll_dice() for _ in range(3)]\n",
    "        if 1 in self.turn_score:\n",
    "            return 0\n",
    "        else:\n",
    "            return sum(self.turn_score)\n"
   ]
  },
  {
   "cell_type": "code",
   "execution_count": 137,
   "metadata": {
    "collapsed": true
   },
   "outputs": [],
   "source": [
    "class TwoRoller(Player):\n",
    "    def __init__(self):\n",
    "        super().__init__()\n",
    "        \n",
    "    def get_move(self):\n",
    "        self.turn_score = []\n",
    "        [self.roll_dice() for _ in range(2)]\n",
    "        if 1 in self.turn_score:\n",
    "            return 0\n",
    "        else:\n",
    "            return sum(self.turn_score)"
   ]
  },
  {
   "cell_type": "code",
   "execution_count": 140,
   "metadata": {
    "collapsed": false
   },
   "outputs": [],
   "source": [
    "bernice = ThreeRoller()\n",
    "angie = TwoRoller()\n",
    "game1 = PigGame(bernice)\n",
    "game2 = PigGame(angie)\n",
    "sim1 = game1.run_pig_sim()\n",
    "sim2 = game2.run_pig_sim()"
   ]
  },
  {
   "cell_type": "code",
   "execution_count": 141,
   "metadata": {
    "collapsed": false
   },
   "outputs": [
    {
     "name": "stdout",
     "output_type": "stream",
     "text": [
      "[{'score': 17, 'turn_score': 17, 'turns': 1}, {'score': 17, 'turn_score': 0, 'turns': 2}, {'score': 17, 'turn_score': 0, 'turns': 3}, {'score': 17, 'turn_score': 0, 'turns': 4}, {'score': 17, 'turn_score': 0, 'turns': 5}, {'score': 30, 'turn_score': 13, 'turns': 6}, {'score': 39, 'turn_score': 9, 'turns': 7}]\n",
      "[{'score': 9, 'turn_score': 9, 'turns': 1}, {'score': 16, 'turn_score': 7, 'turns': 2}, {'score': 24, 'turn_score': 8, 'turns': 3}, {'score': 29, 'turn_score': 5, 'turns': 4}, {'score': 29, 'turn_score': 0, 'turns': 5}, {'score': 38, 'turn_score': 9, 'turns': 6}, {'score': 38, 'turn_score': 0, 'turns': 7}]\n"
     ]
    }
   ],
   "source": [
    "print(sim1)\n",
    "print(sim2)"
   ]
  },
  {
   "cell_type": "code",
   "execution_count": null,
   "metadata": {
    "collapsed": false
   },
   "outputs": [],
   "source": []
  },
  {
   "cell_type": "code",
   "execution_count": null,
   "metadata": {
    "collapsed": true
   },
   "outputs": [],
   "source": []
  },
  {
   "cell_type": "code",
   "execution_count": null,
   "metadata": {
    "collapsed": true
   },
   "outputs": [],
   "source": []
  },
  {
   "cell_type": "code",
   "execution_count": null,
   "metadata": {
    "collapsed": true
   },
   "outputs": [],
   "source": []
  }
 ],
 "metadata": {
  "kernelspec": {
   "display_name": "Python 3",
   "language": "python",
   "name": "python3"
  },
  "language_info": {
   "codemirror_mode": {
    "name": "ipython",
    "version": 3
   },
   "file_extension": ".py",
   "mimetype": "text/x-python",
   "name": "python",
   "nbconvert_exporter": "python",
   "pygments_lexer": "ipython3",
   "version": "3.4.3"
  }
 },
 "nbformat": 4,
 "nbformat_minor": 0
}
