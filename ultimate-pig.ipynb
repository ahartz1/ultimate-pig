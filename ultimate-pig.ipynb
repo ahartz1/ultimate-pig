{
 "cells": [
  {
   "cell_type": "markdown",
   "metadata": {},
   "source": [
    "# Ultimate Pig"
   ]
  },
  {
   "cell_type": "code",
   "execution_count": 1,
   "metadata": {
    "collapsed": true
   },
   "outputs": [],
   "source": [
    "import math\n",
    "import random\n",
    "import matplotlib.pyplot as plt\n",
    "import statistics as st"
   ]
  },
  {
   "cell_type": "code",
   "execution_count": 2,
   "metadata": {
    "collapsed": true
   },
   "outputs": [],
   "source": [
    "%matplotlib inline"
   ]
  },
  {
   "cell_type": "code",
   "execution_count": 3,
   "metadata": {
    "collapsed": false
   },
   "outputs": [],
   "source": [
    "class PigGame:\n",
    "    \"\"\"\n",
    "    Responsibilities:\n",
    "    - Keep track of who is playing\n",
    "    - Keep track of how many turns have occurred\n",
    "    - End game if turn limit has been exceeded\n",
    "    - Record player score\n",
    "    - Report statistics on game\n",
    "    - Iterate\n",
    "    \n",
    "    Collaborators:\n",
    "    - Player\n",
    "    \"\"\"\n",
    "    \n",
    "    def __init__(self, player):\n",
    "        self.player = player\n",
    "        self.turn_limit = 7\n",
    "        self.reset()\n",
    "        \n",
    "    def reset(self):\n",
    "        self.turns = 0\n",
    "        self.score = 0\n",
    "        self.turn_scores = []\n",
    "        \n",
    "    def iterate(self):\n",
    "        self.turn_scores.append(self.player.get_move())\n",
    "        # .get_move() will need to return the score\n",
    "        self.score += self.turn_scores[-1]\n",
    "        self.turns += 1\n",
    "    \n",
    "    def is_game_over(self):\n",
    "        if self.turns == self.turn_limit:\n",
    "            return True\n",
    "        else:\n",
    "            return False\n",
    "    \n",
    "    def game_stats(self):\n",
    "        return {\n",
    "            'turn': self.turns,\n",
    "            'score': self.score,\n",
    "            'turn_score': self.turn_scores[self.turns - 1]\n",
    "        }\n",
    "    \n",
    "    def run_pig_sim(self):\n",
    "        stats = []\n",
    "        self.reset()\n",
    "        while not self.is_game_over():\n",
    "            self.iterate()\n",
    "            stats.append(self.game_stats())\n",
    "        return stats\n",
    "        \n",
    "        "
   ]
  },
  {
   "cell_type": "code",
   "execution_count": 4,
   "metadata": {
    "collapsed": true
   },
   "outputs": [],
   "source": [
    "class Player:\n",
    "    \"\"\"\n",
    "    Responsibilities:\n",
    "    - Keep track of score during turn\n",
    "    - Roll dice\n",
    "    \"\"\"\n",
    "    def __init__(self):\n",
    "        self.turn_score = []\n",
    "\n",
    "    def roll_dice(self):\n",
    "        '''Returns random dice roll value'''\n",
    "        self.turn_score.append(random.randint(1, 6))\n",
    "            "
   ]
  },
  {
   "cell_type": "code",
   "execution_count": 13,
   "metadata": {
    "collapsed": true
   },
   "outputs": [],
   "source": [
    "class OneRoller(Player):\n",
    "    def __init__(self):\n",
    "        super().__init__()\n",
    "        \n",
    "    def get_move(self):\n",
    "        self.turn_score = []\n",
    "        self.roll_dice()\n",
    "        if 1 in self.turn_score:\n",
    "            return 0\n",
    "        else:\n",
    "            return sum(self.turn_score)"
   ]
  },
  {
   "cell_type": "code",
   "execution_count": 6,
   "metadata": {
    "collapsed": true
   },
   "outputs": [],
   "source": [
    "class TwoRoller(Player):\n",
    "    def __init__(self):\n",
    "        super().__init__()\n",
    "        \n",
    "    def get_move(self):\n",
    "        self.turn_score = []\n",
    "        [self.roll_dice() for _ in range(2)]\n",
    "        if 1 in self.turn_score:\n",
    "            return 0\n",
    "        else:\n",
    "            return sum(self.turn_score)"
   ]
  },
  {
   "cell_type": "code",
   "execution_count": 5,
   "metadata": {
    "collapsed": true
   },
   "outputs": [],
   "source": [
    "class ThreeRoller(Player):\n",
    "    \n",
    "    def __init__(self):\n",
    "        super().__init__()\n",
    "    \n",
    "    def get_move(self):\n",
    "        self.turn_score = []\n",
    "        [self.roll_dice() for _ in range(3)]\n",
    "        if 1 in self.turn_score:\n",
    "            return 0\n",
    "        else:\n",
    "            return sum(self.turn_score)\n"
   ]
  },
  {
   "cell_type": "code",
   "execution_count": 7,
   "metadata": {
    "collapsed": false
   },
   "outputs": [],
   "source": [
    "def pig_trials(player, num_trials=10000):\n",
    "    \"\"\"\n",
    "    Run num_trials of with player\n",
    "    - Returns score, number of 0 score turns for each trial\n",
    "    \"\"\"\n",
    "    trial_stats = []\n",
    "    for idx in range(num_trials):\n",
    "        game = PigGame(player)\n",
    "        game_data = game.run_pig_sim()\n",
    "        trial_stats.append(game)\n",
    "    return trial_stats"
   ]
  },
  {
   "cell_type": "code",
   "execution_count": 15,
   "metadata": {
    "collapsed": false
   },
   "outputs": [],
   "source": [
    "angie = OneRoller()\n",
    "angie_data = pig_trials(angie, 1000000)"
   ]
  },
  {
   "cell_type": "code",
   "execution_count": 22,
   "metadata": {
    "collapsed": false
   },
   "outputs": [
    {
     "data": {
      "image/png": "[encoded data removed]",
      "text/plain": [
       "<matplotlib.figure.Figure at 0x10a1bf710>"
      ]
     },
     "metadata": {},
     "output_type": "display_data"
    }
   ],
   "source": [
    "plt.hist([game_data.score for game_data in angie_data], bins = 42)\n",
    "plt.vlines()\n",
    "plt.show()"
   ]
  },
  {
   "cell_type": "code",
   "execution_count": 27,
   "metadata": {
    "collapsed": false
   },
   "outputs": [],
   "source": [
    "bernice = TwoRoller()\n",
    "bernice_data = pig_trials(bernice, 1000000)"
   ]
  },
  {
   "cell_type": "code",
   "execution_count": 28,
   "metadata": {
    "collapsed": false
   },
   "outputs": [
    {
     "data": {
      "image/png": "[encoded data removed]",
      "text/plain": [
       "<matplotlib.figure.Figure at 0x113644f60>"
      ]
     },
     "metadata": {},
     "output_type": "display_data"
    }
   ],
   "source": [
    "plt.hist([game_data.score for game_data in bernice_data], bins = 77)\n",
    "plt.show()"
   ]
  },
  {
   "cell_type": "code",
   "execution_count": 11,
   "metadata": {
    "collapsed": true
   },
   "outputs": [],
   "source": [
    "cheryl_data = pig_trials(cheryl, 1000000)"
   ]
  },
  {
   "cell_type": "code",
   "execution_count": 12,
   "metadata": {
    "collapsed": false
   },
   "outputs": [
    {
     "data": {
      "image/png": "[encoded data removed]",
      "text/plain": [
       "<matplotlib.figure.Figure at 0x116261198>"
      ]
     },
     "metadata": {},
     "output_type": "display_data"
    }
   ],
   "source": [
    "plt.hist([game_data.score for game_data in cheryl_data], bins = 110)\n",
    "plt.show()"
   ]
  },
  {
   "cell_type": "code",
   "execution_count": null,
   "metadata": {
    "collapsed": true
   },
   "outputs": [],
   "source": []
  }
 ],
 "metadata": {
  "kernelspec": {
   "display_name": "Python 3",
   "language": "python",
   "name": "python3"
  },
  "language_info": {
   "codemirror_mode": {
    "name": "ipython",
    "version": 3
   },
   "file_extension": ".py",
   "mimetype": "text/x-python",
   "name": "python",
   "nbconvert_exporter": "python",
   "pygments_lexer": "ipython3",
   "version": "3.4.3"
  }
 },
 "nbformat": 4,
 "nbformat_minor": 0
}
