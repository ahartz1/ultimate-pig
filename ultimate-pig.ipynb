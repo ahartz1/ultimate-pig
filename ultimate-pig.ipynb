{
 "cells": [
  {
   "cell_type": "markdown",
   "metadata": {},
   "source": [
    "# Ultimate Pig"
   ]
  },
  {
   "cell_type": "code",
   "execution_count": 188,
   "metadata": {
    "collapsed": true
   },
   "outputs": [],
   "source": [
    "import math\n",
    "import random\n",
    "import matplotlib.pyplot as plt\n",
    "import statistics as st"
   ]
  },
  {
   "cell_type": "code",
   "execution_count": 189,
   "metadata": {
    "collapsed": true
   },
   "outputs": [],
   "source": [
    "%matplotlib inline"
   ]
  },
  {
   "cell_type": "code",
   "execution_count": 190,
   "metadata": {
    "collapsed": false
   },
   "outputs": [],
   "source": [
    "class PigGame:\n",
    "    \"\"\"\n",
    "    Responsibilities:\n",
    "    - Keep track of who is playing\n",
    "    - Keep track of how many turns have occurred\n",
    "    - End game if turn limit has been exceeded\n",
    "    - Record player score\n",
    "    - Report statistics on game\n",
    "    - Iterate\n",
    "    \n",
    "    Collaborators:\n",
    "    - Player\n",
    "    \"\"\"\n",
    "    \n",
    "    def __init__(self, player):\n",
    "        self.player = player\n",
    "        self.turn_limit = 7\n",
    "        self.reset()\n",
    "        \n",
    "    def reset(self):\n",
    "        self.turns = 0\n",
    "        self.score = 0\n",
    "        self.turn_scores = []\n",
    "        \n",
    "    def iterate(self):\n",
    "        self.turn_scores.append(self.player.get_move())\n",
    "        # .get_move() will need to return the score\n",
    "        self.score += self.turn_scores[-1]\n",
    "        self.turns += 1\n",
    "    \n",
    "    def is_game_over(self):\n",
    "        if self.turns == self.turn_limit:\n",
    "            return True\n",
    "        else:\n",
    "            return False\n",
    "    \n",
    "    def game_stats(self):\n",
    "        return {\n",
    "            'turn': self.turns,\n",
    "            'score': self.score,\n",
    "            'turn_score': self.turn_scores[self.turns - 1]\n",
    "        }\n",
    "    \n",
    "    def run_pig_sim(self):\n",
    "        stats = []\n",
    "        self.reset()\n",
    "        while not self.is_game_over():\n",
    "            self.iterate()\n",
    "            stats.append(self.game_stats())\n",
    "        return stats\n",
    "        \n",
    "        "
   ]
  },
  {
   "cell_type": "code",
   "execution_count": 191,
   "metadata": {
    "collapsed": true
   },
   "outputs": [],
   "source": [
    "class Player:\n",
    "    \"\"\"\n",
    "    Responsibilities:\n",
    "    - Keep track of score during turn\n",
    "    - Roll dice\n",
    "    \"\"\"\n",
    "    def __init__(self):\n",
    "        self.turn_score = []\n",
    "\n",
    "    def roll_dice(self):\n",
    "        '''Returns random dice roll value'''\n",
    "        self.turn_score.append(random.randint(1, 6))\n",
    "            "
   ]
  },
  {
   "cell_type": "code",
   "execution_count": 192,
   "metadata": {
    "collapsed": true
   },
   "outputs": [],
   "source": [
    "class ThreeRoller(Player):\n",
    "    \n",
    "    def __init__(self):\n",
    "        super().__init__()\n",
    "    \n",
    "    def get_move(self):\n",
    "        self.turn_score = []\n",
    "        [self.roll_dice() for _ in range(3)]\n",
    "        if 1 in self.turn_score:\n",
    "            return 0\n",
    "        else:\n",
    "            return sum(self.turn_score)\n"
   ]
  },
  {
   "cell_type": "code",
   "execution_count": 193,
   "metadata": {
    "collapsed": true
   },
   "outputs": [],
   "source": [
    "class TwoRoller(Player):\n",
    "    def __init__(self):\n",
    "        super().__init__()\n",
    "        \n",
    "    def get_move(self):\n",
    "        self.turn_score = []\n",
    "        [self.roll_dice() for _ in range(2)]\n",
    "        if 1 in self.turn_score:\n",
    "            return 0\n",
    "        else:\n",
    "            return sum(self.turn_score)"
   ]
  },
  {
   "cell_type": "code",
   "execution_count": 194,
   "metadata": {
    "collapsed": false
   },
   "outputs": [],
   "source": [
    "def pig_trials(player, num_trials=10000):\n",
    "    \"\"\"\n",
    "    Run num_trials of with player\n",
    "    - Returns score, number of 0 score turns for each trial\n",
    "    \"\"\"\n",
    "    trial_stats = []\n",
    "    for idx in range(num_trials):\n",
    "        game = PigGame(player)\n",
    "        game_data = game.run_pig_sim()\n",
    "        trial_stats.append(game)\n",
    "    return trial_stats"
   ]
  },
  {
   "cell_type": "code",
   "execution_count": 195,
   "metadata": {
    "collapsed": false
   },
   "outputs": [],
   "source": [
    "bernice = ThreeRoller()\n",
    "angie = TwoRoller()\n",
    "game1 = PigGame(bernice)\n",
    "game2 = PigGame(angie)\n",
    "sim1 = game1.run_pig_sim()\n",
    "sim2 = game2.run_pig_sim()"
   ]
  },
  {
   "cell_type": "code",
   "execution_count": 196,
   "metadata": {
    "collapsed": false
   },
   "outputs": [
    {
     "name": "stdout",
     "output_type": "stream",
     "text": [
      "22\n",
      "29\n",
      "[{'score': 0, 'turn_score': 0, 'turn': 1}, {'score': 0, 'turn_score': 0, 'turn': 2}, {'score': 13, 'turn_score': 13, 'turn': 3}, {'score': 13, 'turn_score': 0, 'turn': 4}, {'score': 13, 'turn_score': 0, 'turn': 5}, {'score': 13, 'turn_score': 0, 'turn': 6}, {'score': 22, 'turn_score': 9, 'turn': 7}]\n",
      "[{'score': 0, 'turn_score': 0, 'turn': 1}, {'score': 0, 'turn_score': 0, 'turn': 2}, {'score': 0, 'turn_score': 0, 'turn': 3}, {'score': 4, 'turn_score': 4, 'turn': 4}, {'score': 14, 'turn_score': 10, 'turn': 5}, {'score': 22, 'turn_score': 8, 'turn': 6}, {'score': 29, 'turn_score': 7, 'turn': 7}]\n"
     ]
    }
   ],
   "source": [
    "print(game1.score)\n",
    "print(game2.score)\n",
    "print(sim1)\n",
    "print(sim2)"
   ]
  },
  {
   "cell_type": "code",
   "execution_count": 202,
   "metadata": {
    "collapsed": false
   },
   "outputs": [],
   "source": [
    "angie_data = pig_trials(angie, 1000000)"
   ]
  },
  {
   "cell_type": "code",
   "execution_count": 229,
   "metadata": {
    "collapsed": false
   },
   "outputs": [
    {
     "data": {
      "image/png": "[encoded data removed]",
      "text/plain": [
       "<matplotlib.figure.Figure at 0x12bb89390>"
      ]
     },
     "metadata": {},
     "output_type": "display_data"
    }
   ],
   "source": [
    "plt.hist([game_data.score for game_data in angie_data], bins = 77)\n",
    "plt.show()"
   ]
  },
  {
   "cell_type": "code",
   "execution_count": 213,
   "metadata": {
    "collapsed": true
   },
   "outputs": [],
   "source": [
    "bernice_data = pig_trials(bernice, 1000000)"
   ]
  },
  {
   "cell_type": "code",
   "execution_count": 228,
   "metadata": {
    "collapsed": false
   },
   "outputs": [
    {
     "data": {
      "image/png": "[encoded data removed]",
      "text/plain": [
       "<matplotlib.figure.Figure at 0x12be829b0>"
      ]
     },
     "metadata": {},
     "output_type": "display_data"
    }
   ],
   "source": [
    "plt.hist([game_data.score for game_data in bernice_data], bins = 110)\n",
    "plt.show()"
   ]
  },
  {
   "cell_type": "code",
   "execution_count": null,
   "metadata": {
    "collapsed": true
   },
   "outputs": [],
   "source": []
  }
 ],
 "metadata": {
  "kernelspec": {
   "display_name": "Python 3",
   "language": "python",
   "name": "python3"
  },
  "language_info": {
   "codemirror_mode": {
    "name": "ipython",
    "version": 3
   },
   "file_extension": ".py",
   "mimetype": "text/x-python",
   "name": "python",
   "nbconvert_exporter": "python",
   "pygments_lexer": "ipython3",
   "version": "3.4.3"
  }
 },
 "nbformat": 4,
 "nbformat_minor": 0
}
