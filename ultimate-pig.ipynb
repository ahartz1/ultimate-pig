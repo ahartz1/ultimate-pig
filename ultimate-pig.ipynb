{
 "cells": [
  {
   "cell_type": "markdown",
   "metadata": {},
   "source": [
    "# Ultimate Pig"
   ]
  },
  {
   "cell_type": "code",
   "execution_count": 1,
   "metadata": {
    "collapsed": true
   },
   "outputs": [],
   "source": [
    "import math\n",
    "import random\n",
    "import matplotlib.pyplot as plt\n",
    "import statistics as st"
   ]
  },
  {
   "cell_type": "code",
   "execution_count": 2,
   "metadata": {
    "collapsed": true
   },
   "outputs": [],
   "source": [
    "%matplotlib inline"
   ]
  },
  {
   "cell_type": "code",
   "execution_count": 3,
   "metadata": {
    "collapsed": false
   },
   "outputs": [],
   "source": [
    "class PigGame:\n",
    "    \"\"\"\n",
    "    Responsibilities:\n",
    "    - Keep track of who is playing\n",
    "    - Keep track of how many turns have occurred\n",
    "    - End game if turn limit has been exceeded\n",
    "    - Record player score\n",
    "    - Report statistics on game\n",
    "    - Iterate\n",
    "    \n",
    "    Collaborators:\n",
    "    - Player\n",
    "    \"\"\"\n",
    "    \n",
    "    def __init__(self, player):\n",
    "        self.player = player\n",
    "        self.turn_limit = 7\n",
    "        self.reset()\n",
    "        \n",
    "    def reset(self):\n",
    "        self.turns = 0\n",
    "        self.score = 0\n",
    "        self.turn_scores = []\n",
    "        \n",
    "    def iterate(self):\n",
    "        self.turn_scores.append(self.player.get_move())\n",
    "        # .get_move() will need to return the score\n",
    "        self.score += self.turn_scores[-1]\n",
    "        self.turns += 1\n",
    "    \n",
    "    def is_game_over(self):\n",
    "        if self.turns == self.turn_limit:\n",
    "            return True\n",
    "        else:\n",
    "            return False\n",
    "    \n",
    "    def game_stats(self):\n",
    "        return {\n",
    "            'turn': self.turns,\n",
    "            'score': self.score,\n",
    "            'turn_score': self.turn_scores[self.turns - 1]\n",
    "        }\n",
    "    \n",
    "    def run_pig_sim(self):\n",
    "        stats = []\n",
    "        self.reset()\n",
    "        while not self.is_game_over():\n",
    "            self.iterate()\n",
    "            stats.append(self.game_stats())\n",
    "        return stats\n",
    "        \n",
    "        "
   ]
  },
  {
   "cell_type": "code",
   "execution_count": 4,
   "metadata": {
    "collapsed": true
   },
   "outputs": [],
   "source": [
    "class Player:\n",
    "    \"\"\"\n",
    "    Responsibilities:\n",
    "    - Keep track of score during turn\n",
    "    - Roll dice\n",
    "    \"\"\"\n",
    "    def __init__(self):\n",
    "        self.turn_score = []\n",
    "\n",
    "    def roll_dice(self):\n",
    "        '''Returns random dice roll value'''\n",
    "        self.turn_score.append(random.randint(1, 6))\n",
    "            "
   ]
  },
  {
   "cell_type": "code",
   "execution_count": 13,
   "metadata": {
    "collapsed": true
   },
   "outputs": [],
   "source": [
    "class OneRoller(Player):\n",
    "    def __init__(self):\n",
    "        super().__init__()\n",
    "        \n",
    "    def get_move(self):\n",
    "        self.turn_score = []\n",
    "        self.roll_dice()\n",
    "        if 1 in self.turn_score:\n",
    "            return 0\n",
    "        else:\n",
    "            return sum(self.turn_score)"
   ]
  },
  {
   "cell_type": "code",
   "execution_count": 6,
   "metadata": {
    "collapsed": true
   },
   "outputs": [],
   "source": [
    "class TwoRoller(Player):\n",
    "    def __init__(self):\n",
    "        super().__init__()\n",
    "        \n",
    "    def get_move(self):\n",
    "        self.turn_score = []\n",
    "        [self.roll_dice() for _ in range(2)]\n",
    "        if 1 in self.turn_score:\n",
    "            return 0\n",
    "        else:\n",
    "            return sum(self.turn_score)"
   ]
  },
  {
   "cell_type": "code",
   "execution_count": 5,
   "metadata": {
    "collapsed": true
   },
   "outputs": [],
   "source": [
    "class ThreeRoller(Player):\n",
    "    \n",
    "    def __init__(self):\n",
    "        super().__init__()\n",
    "    \n",
    "    def get_move(self):\n",
    "        self.turn_score = []\n",
    "        [self.roll_dice() for _ in range(3)]\n",
    "        if 1 in self.turn_score:\n",
    "            return 0\n",
    "        else:\n",
    "            return sum(self.turn_score)\n"
   ]
  },
  {
   "cell_type": "code",
   "execution_count": 48,
   "metadata": {
    "collapsed": true
   },
   "outputs": [],
   "source": [
    "class FourRoller(Player):\n",
    "    \n",
    "    def __init__(self):\n",
    "        super().__init__()\n",
    "    \n",
    "    def get_move(self):\n",
    "        self.turn_score = []\n",
    "        [self.roll_dice() for _ in range(4)]\n",
    "        if 1 in self.turn_score:\n",
    "            return 0\n",
    "        else:\n",
    "            return sum(self.turn_score)"
   ]
  },
  {
   "cell_type": "code",
   "execution_count": 59,
   "metadata": {
    "collapsed": false
   },
   "outputs": [],
   "source": [
    "class VariRoller(Player):\n",
    "    \n",
    "    def __init__(self, num_rolls=3):\n",
    "        super().__init__()\n",
    "        self.num_rolls = num_rolls\n",
    "    \n",
    "    def get_move(self):\n",
    "        self.turn_score = []\n",
    "        [self.roll_dice() for _ in range(self.num_rolls)]\n",
    "        if 1 in self.turn_score:\n",
    "            return 0\n",
    "        else:\n",
    "            return sum(self.turn_score)"
   ]
  },
  {
   "cell_type": "code",
   "execution_count": 73,
   "metadata": {
    "collapsed": true
   },
   "outputs": [],
   "source": [
    "class VariHold(Player):\n",
    "    \n",
    "    def __init__(self, hold_num=22):\n",
    "        super().__init__()\n",
    "        self.num_rolls = num_rolls\n",
    "    \n",
    "    def get_move(self):\n",
    "        self.turn_score = []\n",
    "        while sum(self.turn_score) < hold_num:\n",
    "            self.roll_dice()\n",
    "        if 1 in self.turn_score:\n",
    "            return 0\n",
    "        else:\n",
    "            return sum(self.turn_score)"
   ]
  },
  {
   "cell_type": "code",
   "execution_count": 7,
   "metadata": {
    "collapsed": false
   },
   "outputs": [],
   "source": [
    "def pig_trials(player, num_trials=10000):\n",
    "    \"\"\"\n",
    "    Run num_trials of with player\n",
    "    - Returns score, number of 0 score turns for each trial\n",
    "    \"\"\"\n",
    "    trial_stats = []\n",
    "    for idx in range(num_trials):\n",
    "        game = PigGame(player)\n",
    "        game_data = game.run_pig_sim()\n",
    "        trial_stats.append(game)\n",
    "    return trial_stats"
   ]
  },
  {
   "cell_type": "code",
   "execution_count": 15,
   "metadata": {
    "collapsed": false
   },
   "outputs": [],
   "source": [
    "angie = OneRoller()\n",
    "angie_data = pig_trials(angie, 1000000)"
   ]
  },
  {
   "cell_type": "code",
   "execution_count": 75,
   "metadata": {
    "collapsed": false
   },
   "outputs": [
    {
     "data": {
      "image/png": "[encoded data removed]",
      "text/plain": [
       "<matplotlib.figure.Figure at 0x116e1d198>"
      ]
     },
     "metadata": {},
     "output_type": "display_data"
    }
   ],
   "source": [
    "angie_list = [game_data.score for game_data in angie_data]\n",
    "plt.hist(angie_list, bins = 42)\n",
    "ymin, ymax = plt.ylim()\n",
    "plt.vlines(st.mean(angie_list), ymin, ymax , color='red')\n",
    "plt.xlabel('Mean: {:.3f}'.format(st.mean(angie_list)))\n",
    "plt.show()"
   ]
  },
  {
   "cell_type": "code",
   "execution_count": 27,
   "metadata": {
    "collapsed": false
   },
   "outputs": [],
   "source": [
    "bernice = TwoRoller()\n",
    "bernice_data = pig_trials(bernice, 1000000)"
   ]
  },
  {
   "cell_type": "code",
   "execution_count": 76,
   "metadata": {
    "collapsed": false
   },
   "outputs": [
    {
     "data": {
      "image/png": "[encoded data removed]",
      "text/plain": [
       "<matplotlib.figure.Figure at 0x116fae828>"
      ]
     },
     "metadata": {},
     "output_type": "display_data"
    }
   ],
   "source": [
    "bernice_list = [game_data.score for game_data in bernice_data]\n",
    "plt.hist(bernice_list, bins = 77)\n",
    "ymin, ymax = plt.ylim()\n",
    "plt.vlines(st.mean(bernice_list), ymin, ymax , color='red')\n",
    "plt.xlabel('Mean: {:.3f}'.format(st.mean(bernice_list)))\n",
    "plt.show()"
   ]
  },
  {
   "cell_type": "code",
   "execution_count": 43,
   "metadata": {
    "collapsed": false
   },
   "outputs": [],
   "source": [
    "cheryl = ThreeRoller()\n",
    "cheryl_data = pig_trials(cheryl, 1000000)"
   ]
  },
  {
   "cell_type": "code",
   "execution_count": 77,
   "metadata": {
    "collapsed": false
   },
   "outputs": [
    {
     "data": {
      "image/png": "[encoded data removed]",
      "text/plain": [
       "<matplotlib.figure.Figure at 0x116f926a0>"
      ]
     },
     "metadata": {},
     "output_type": "display_data"
    }
   ],
   "source": [
    "cheryl_list = [game_data.score for game_data in cheryl_data]\n",
    "plt.hist(cheryl_list, bins = 107)\n",
    "ymin, ymax = plt.ylim()\n",
    "plt.vlines(st.mean(cheryl_list), ymin, ymax , color='red')\n",
    "plt.xlabel('Mean: {:.3f}'.format(st.mean(cheryl_list)))\n",
    "plt.show()"
   ]
  },
  {
   "cell_type": "code",
   "execution_count": 50,
   "metadata": {
    "collapsed": false
   },
   "outputs": [],
   "source": [
    "dana = FourRoller()\n",
    "dana_data = pig_trials(dana, 1000000)"
   ]
  },
  {
   "cell_type": "code",
   "execution_count": 78,
   "metadata": {
    "collapsed": false
   },
   "outputs": [
    {
     "data": {
      "image/png": "[encoded data removed]",
      "text/plain": [
       "<matplotlib.figure.Figure at 0x1173e3ac8>"
      ]
     },
     "metadata": {},
     "output_type": "display_data"
    }
   ],
   "source": [
    "dana_list = [game_data.score for game_data in dana_data]\n",
    "plt.hist(dana_list, bins = 140)\n",
    "ymin, ymax = plt.ylim()\n",
    "plt.vlines(st.mean(dana_list), ymin, ymax , color='red')\n",
    "plt.xlabel('Mean: {:.3f}'.format(st.mean(dana_list)))\n",
    "plt.show()"
   ]
  },
  {
   "cell_type": "code",
   "execution_count": 60,
   "metadata": {
    "collapsed": false
   },
   "outputs": [],
   "source": [
    "elise = VariRoller(5)\n",
    "elise_data = pig_trials(elise, 1000000)"
   ]
  },
  {
   "cell_type": "code",
   "execution_count": 79,
   "metadata": {
    "collapsed": false
   },
   "outputs": [
    {
     "data": {
      "image/png": "[encoded data removed]",
      "text/plain": [
       "<matplotlib.figure.Figure at 0x117447780>"
      ]
     },
     "metadata": {},
     "output_type": "display_data"
    }
   ],
   "source": [
    "elise_list = [game_data.score for game_data in elise_data]\n",
    "plt.hist(elise_list, bins = 165)\n",
    "ymin, ymax = plt.ylim()\n",
    "plt.vlines(st.mean(elise_list), ymin, ymax , color='red')\n",
    "plt.xlabel('Mean: {:.3f}'.format(st.mean(elise_list)))\n",
    "plt.show()"
   ]
  },
  {
   "cell_type": "code",
   "execution_count": 80,
   "metadata": {
    "collapsed": true
   },
   "outputs": [],
   "source": [
    "fay = VariRoller(6)\n",
    "fay_data = pig_trials(fay, 1000000)"
   ]
  },
  {
   "cell_type": "code",
   "execution_count": 90,
   "metadata": {
    "collapsed": false
   },
   "outputs": [
    {
     "data": {
      "image/png": "[encoded data removed]",
      "text/plain": [
       "<matplotlib.figure.Figure at 0x153cff0b8>"
      ]
     },
     "metadata": {},
     "output_type": "display_data"
    }
   ],
   "source": [
    "fay_list = [game_data.score for game_data in fay_data]\n",
    "plt.hist(fay_list, bins = 205)\n",
    "ymin, ymax = plt.ylim()\n",
    "plt.ylim(ymin, ymax/2)\n",
    "plt.xlim(0, 180)\n",
    "plt.vlines(st.mean(fay_list), ymin, ymax , color='red')\n",
    "plt.xlabel('Mean: {:.3f}'.format(st.mean(fay_list)))\n",
    "plt.show()"
   ]
  },
  {
   "cell_type": "code",
   "execution_count": 91,
   "metadata": {
    "collapsed": true
   },
   "outputs": [],
   "source": [
    "gail = VariRoller(7)\n",
    "gail_data = pig_trials(gail, 1000000)"
   ]
  },
  {
   "cell_type": "code",
   "execution_count": 118,
   "metadata": {
    "collapsed": false
   },
   "outputs": [
    {
     "data": {
      "image/png": "[encoded data removed]",
      "text/plain": [
       "<matplotlib.figure.Figure at 0x1643ca9e8>"
      ]
     },
     "metadata": {},
     "output_type": "display_data"
    }
   ],
   "source": [
    "gail_list = [game_data.score for game_data in gail_data]\n",
    "plt.hist(gail_list, bins = 218)\n",
    "ymin, ymax = plt.ylim()\n",
    "plt.ylim(ymin, ymax/2)\n",
    "plt.xlim(0, 190)\n",
    "plt.vlines(st.mean(gail_list), ymin, ymax , color='red')\n",
    "plt.xlabel('Mean: {:.3f}'.format(st.mean(gail_list)))\n",
    "plt.show()"
   ]
  },
  {
   "cell_type": "code",
   "execution_count": null,
   "metadata": {
    "collapsed": true
   },
   "outputs": [],
   "source": []
  }
 ],
 "metadata": {
  "kernelspec": {
   "display_name": "Python 3",
   "language": "python",
   "name": "python3"
  },
  "language_info": {
   "codemirror_mode": {
    "name": "ipython",
    "version": 3
   },
   "file_extension": ".py",
   "mimetype": "text/x-python",
   "name": "python",
   "nbconvert_exporter": "python",
   "pygments_lexer": "ipython3",
   "version": "3.4.3"
  }
 },
 "nbformat": 4,
 "nbformat_minor": 0
}
